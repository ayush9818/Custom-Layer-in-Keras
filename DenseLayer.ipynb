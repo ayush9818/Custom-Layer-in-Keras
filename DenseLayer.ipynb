{
  "nbformat": 4,
  "nbformat_minor": 0,
  "metadata": {
    "colab": {
      "name": "DenseLayer.ipynb",
      "version": "0.3.2",
      "provenance": [],
      "include_colab_link": true
    },
    "kernelspec": {
      "name": "python3",
      "display_name": "Python 3"
    }
  },
  "cells": [
    {
      "cell_type": "markdown",
      "metadata": {
        "id": "view-in-github",
        "colab_type": "text"
      },
      "source": [
        "<a href=\"https://colab.research.google.com/github/python-freak/Custom-Layer-in-Keras/blob/master/DenseLayer.ipynb\" target=\"_parent\"><img src=\"https://colab.research.google.com/assets/colab-badge.svg\" alt=\"Open In Colab\"/></a>"
      ]
    },
    {
      "metadata": {
        "id": "713MRk44UbbE",
        "colab_type": "code",
        "colab": {}
      },
      "cell_type": "code",
      "source": [
        "from keras import backend as k\n",
        "from keras.layers import Layer\n",
        "from keras import activations , initializers \n",
        "from keras.engine import InputSpec\n",
        "from keras.engine.base_layer import Layer\n",
        "from keras.utils.generic_utils import deserialize_keras_object"
      ],
      "execution_count": 0,
      "outputs": []
    },
    {
      "metadata": {
        "id": "UUMjkBTjU2zR",
        "colab_type": "code",
        "colab": {}
      },
      "cell_type": "code",
      "source": [
        "class DenseLayer(Layer):\n",
        "  \n",
        "  def __init__(self,\n",
        "             units,\n",
        "             activation = None , \n",
        "             use_bias = True , \n",
        "             kernel_initializer = 'glorot-uniform' ,\n",
        "             bias_initializer = 'zeros', **kwargs):\n",
        "    \n",
        "    \n",
        "    if 'input_shape' not in kwargs and 'input_dim' in kwargs:\n",
        "      kwargs['input_shape'] = (kwargs.pop('input_dim') , )\n",
        "    \n",
        "    super(DenseLayer , self).__init__(**kwargs)\n",
        "    self.units = units\n",
        "    self.activation = activations.get(activation)\n",
        "    self.use_bias = use_bias\n",
        "    self.kernel_initializer = initializers.get(kernel_initializer)\n",
        "    self.bias_initializer = initializers.get(bias_initializer)\n",
        "    self.input_spec = InputSpec(min_ndim = 2)\n",
        "    self.supports_masking = True\n",
        "    \n",
        "    def build(self , input_shape):\n",
        "      assert len(input_shape >= 2)\n",
        "      \n",
        "      input_dim = input_shape[-1]\n",
        "      self.kernel = self.add_weight(shape=(input_dim,self.units) , initializer = self.kernel_initializer , name = 'kernel')\n",
        "      if self.use_bias:\n",
        "        self.bias = self.add_weight(shape=(self.units,) , initializer = self.bias_initializer , name = 'bias')\n",
        "        \n",
        "      self.input_spec = InputSpec(min_ndim=2, axes={-1: input_dim})\n",
        "      self.built = True\n",
        "      \n",
        "      \n",
        "  def call(self , inputs):\n",
        "    output = k.dot(inputs , self.kernel)\n",
        "    if self.use_bias:\n",
        "      output = k.bias_add(output , self.bias , data_format = \"channels_last\")\n",
        "    if self.activation is not None:\n",
        "      output = self.activation(output)\n",
        "      \n",
        "    return output\n",
        "  \n",
        "  \n",
        "  def compute_output_shape(self , input_shape):\n",
        "    assert input_shape and len(input_shape)>=2\n",
        "    assert input_shape[-1]\n",
        "    output_shape = list(input_shape)\n",
        "    output_shape[-1] = self.units\n",
        "    return tuple(output_shape)\n",
        "  \n",
        "  def get_config(self):\n",
        "    config = {\n",
        "        'units':self.units , \n",
        "        'activation': activations.serialize(self.activation), \n",
        "        'use_bias': self.use_bias, \n",
        "        'kernel_initializer' :initializers.serialize(self.kernel_initializer) ,\n",
        "        'bias_initializer':initializers.serialize(self.bias_initializer)\n",
        "    }\n",
        "    base_config = super(Dense , self).get_config()\n",
        "    return dict(list(base_config.items()) + list(config.items()))\n",
        "    \n",
        "        \n",
        "    \n",
        "    "
      ],
      "execution_count": 0,
      "outputs": []
    }
  ]
}